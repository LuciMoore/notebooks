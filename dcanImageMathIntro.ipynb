{
 "cells": [
  {
   "cell_type": "markdown",
   "metadata": {},
   "source": [
    "# DCAN Lab Introduction to Command Line Image Math\n",
    "\n",
    "## Topics\n",
    "\n",
    "* What makes an image?\n",
    "\n",
    "\n",
    "* What are some operations on images?\n",
    "\n",
    "    * Images and Numbers\n",
    "\n",
    "    * Images and other Images\n",
    "    \n",
    "    * Transformations\n",
    "\n",
    "\n",
    "* What kind of images are there in MRI research?\n",
    "\n",
    "    * Anatomy\n",
    "    \n",
    "    * Functional\n",
    "    \n",
    "    * Labels\n",
    "\n",
    "\n",
    "* Common DCAN Tools\n",
    "\n",
    "    * fsl\n",
    "    \n",
    "    * FreeSurfer\n",
    "       \n",
    "    * ANTs\n",
    "    \n"
   ]
  },
  {
   "cell_type": "markdown",
   "metadata": {},
   "source": [
    "# What Makes An Image?\n",
    "\n",
    "In this context we will always be talking about *digital images*, the way that they are represented on a computer.  Starting this intro with 2-dimensional images, a standard digital image is represented on a computer by a grid (or matrix/array) of numbers.\n",
    "\n",
    "Off-white boxes such as the one below, with `In [1]:` in the margins, are the python code used to display images/examples.  The code may be followed or ignored for the purposes of this introduction.\n"
   ]
  },
  {
   "cell_type": "code",
   "execution_count": 1,
   "metadata": {
    "scrolled": false
   },
   "outputs": [
    {
     "name": "stdout",
     "output_type": "stream",
     "text": [
      "[[1, 1, 1, 0, 0, 0],\n",
      " [1, 1, 1, 0, 0, 0],\n",
      " [1, 1, 1, 0, 0, 0],\n",
      " [1, 1, 1, 0, 0, 0],\n",
      " [1, 1, 1, 0, 0, 0],\n",
      " [1, 1, 1, 0, 0, 0]]\n",
      "\n",
      "[[1, 0, 1, 0, 1, 0],\n",
      " [0, 1, 0, 1, 0, 1],\n",
      " [1, 0, 1, 0, 1, 0],\n",
      " [0, 1, 0, 1, 0, 1],\n",
      " [1, 0, 1, 0, 1, 0],\n",
      " [0, 1, 0, 1, 0, 1]]\n"
     ]
    }
   ],
   "source": [
    "%matplotlib inline\n",
    "# load some python visualization and mathematics packages\n",
    "from matplotlib import pyplot as plt\n",
    "import numpy as np\n",
    "from pprint import pprint\n",
    "\n",
    "# intialize a grid, we will call it \"grid1\"\n",
    "m = 6; n = 6\n",
    "grid1 = np.zeros((m, n), dtype=int)\n",
    "grid1[:, :n//2] = 1\n",
    "\n",
    "# initialize a second grid, \"grid2\"\n",
    "m = 3; n = 3\n",
    "even = np.array(m * [1, 0])\n",
    "odd = even[::-1]\n",
    "grid2 = np.row_stack(n * (even, odd))\n",
    "\n",
    "# print the grids out as data/matrices\n",
    "pprint(grid1.tolist())\n",
    "print('')\n",
    "pprint(grid2.tolist())"
   ]
  },
  {
   "cell_type": "markdown",
   "metadata": {},
   "source": [
    "Above you can see the shape of the grids we have created.  Notice grid1 is split half and half between 1 and 0, grid2 is alternating 1s and 0s.  This notation may be novel, but it corresponds quite nicely to the elements of a matrix, or an excel spreadsheet, csv, whatever format you may be used to reading in tabular data, it is organized by two indices: a row index and a column index which together map each element.\n",
    "\n",
    "Let's see how these numbers look as a images:"
   ]
  },
  {
   "cell_type": "code",
   "execution_count": 2,
   "metadata": {},
   "outputs": [
    {
     "data": {
      "text/plain": [
       "Text(0.5,1,'grid2')"
      ]
     },
     "execution_count": 2,
     "metadata": {},
     "output_type": "execute_result"
    },
    {
     "data": {
      "image/png": "[encoded data removed]",
      "text/plain": [
       "<Figure size 432x288 with 2 Axes>"
      ]
     },
     "metadata": {},
     "output_type": "display_data"
    }
   ],
   "source": [
    "plt.subplot(1, 2, 1)\n",
    "plt.imshow(grid1, cmap='gray')\n",
    "plt.title('grid1')\n",
    "plt.subplot(1, 2, 2)\n",
    "plt.imshow(grid2, cmap='gray')\n",
    "plt.title('grid2')"
   ]
  },
  {
   "cell_type": "markdown",
   "metadata": {},
   "source": [
    "Notice that wherever we had a 1, the image shows a white square.  Wherever we had a 0, the image shows a black square.  Whether the number or the visible representation, these are \"pixels\".\n",
    "\n",
    "If we were discussing photographs such as taken on a digital camera, each pixel would actually have three values associated: R, G, and B.  In the context of MRI, we are only concerned with grayscale images.\n",
    "\n",
    "\n",
    "# What Are Some Operations on Images?\n",
    "\n",
    "Here we will discuss mathematical operations which can be performed on images.\n",
    "\n",
    "### Images and Numbers\n",
    "\n",
    "Given some number $x$, and another number $a$, I can write some simple equations like:\n",
    "\n",
    "$$x + a = 5 \\\\\n",
    "x - a = 1 \\\\\n",
    "x \\times a = 6 \\\\\n",
    "x ^ a = 9$$\n",
    "\n",
    "Which you will recognize as addition, subtraction, multiplication and exponentiation.\n",
    "\n",
    "For some image $I$, and a number $a$, I can carry out all of the same operations, for example, I can add $a$ to grid1, the half and half grid from before:\n",
    "\n",
    "$$ a + I = ?$$"
   ]
  },
  {
   "cell_type": "code",
   "execution_count": 3,
   "metadata": {
    "scrolled": true
   },
   "outputs": [
    {
     "name": "stdout",
     "output_type": "stream",
     "text": [
      "[[1, 1, 1, 0, 0, 0],\n",
      " [1, 1, 1, 0, 0, 0],\n",
      " [1, 1, 1, 0, 0, 0],\n",
      " [1, 1, 1, 0, 0, 0],\n",
      " [1, 1, 1, 0, 0, 0],\n",
      " [1, 1, 1, 0, 0, 0]]\n",
      "\n",
      "[[3, 3, 3, 2, 2, 2],\n",
      " [3, 3, 3, 2, 2, 2],\n",
      " [3, 3, 3, 2, 2, 2],\n",
      " [3, 3, 3, 2, 2, 2],\n",
      " [3, 3, 3, 2, 2, 2],\n",
      " [3, 3, 3, 2, 2, 2]]\n"
     ]
    }
   ],
   "source": [
    "# define image I and number a.\n",
    "I = grid1; a = 2\n",
    "# add 2 to the image.\n",
    "J = a + I\n",
    "pprint(I.tolist())\n",
    "print('')\n",
    "pprint(J.tolist())"
   ]
  },
  {
   "cell_type": "markdown",
   "metadata": {},
   "source": [
    "Notice that the value of each element in grid1 has increased by 2!  We call these *elementwise* operations, where the normal mathematical operation: addition, multiplication, etc. is carried out individually on each pixel/element of the image:\n",
    "\n",
    "$$ J_{n, m} = a + I_{n, m} $$\n",
    "\n",
    "where $I_{n, m}$ is the element in row n, column m, of $I$ \n",
    "\n",
    "Adding 2 to an image is the same as adding 2 to every pixel, multiplying an image by 2 is the same as multiplying every pixel by 2.  In fact, even fancy operations like log, exponents, or trig functions obey this same rule.\n",
    "\n",
    "Let's take a look at the visual result for illustrative purposes:"
   ]
  },
  {
   "cell_type": "code",
   "execution_count": 4,
   "metadata": {},
   "outputs": [
    {
     "data": {
      "text/plain": [
       "<matplotlib.image.AxesImage at 0x7f4ce7cc0320>"
      ]
     },
     "execution_count": 4,
     "metadata": {},
     "output_type": "execute_result"
    },
    {
     "data": {
      "image/png": "[encoded data removed]",
      "text/plain": [
       "<Figure size 432x288 with 1 Axes>"
      ]
     },
     "metadata": {},
     "output_type": "display_data"
    }
   ],
   "source": [
    "plt.imshow(J, cmap='gray')"
   ]
  },
  {
   "cell_type": "markdown",
   "metadata": {},
   "source": [
    "Question:  Why does the image still look the same as before?\n",
    "\n",
    "...\n",
    "\n",
    "Answer: You must be careful when visually comparing different images to make sure they are *scaled* the same. 2 is here black because it is the *lowest* value in the image.  3 is white because it is the *highest*.  We could also scale this image from 0 to 5, and we would see some slightly different shades of gray in place of 3 and 2:"
   ]
  },
  {
   "cell_type": "code",
   "execution_count": 5,
   "metadata": {
    "scrolled": true
   },
   "outputs": [
    {
     "data": {
      "text/plain": [
       "<matplotlib.image.AxesImage at 0x7f4ce7ca2860>"
      ]
     },
     "execution_count": 5,
     "metadata": {},
     "output_type": "execute_result"
    },
    {
     "data": {
      "image/png": "[encoded data removed]",
      "text/plain": [
       "<Figure size 432x288 with 1 Axes>"
      ]
     },
     "metadata": {},
     "output_type": "display_data"
    }
   ],
   "source": [
    "plt.imshow(J, cmap='gray', vmin=0, vmax=4)"
   ]
  },
  {
   "cell_type": "markdown",
   "metadata": {},
   "source": [
    "## Images and other Images\n",
    "\n",
    "Similar to before, we can also have addition, subtraction, multiplication, division, etc. between images.  For example, given an image $I$ and an image $J$ we can still have:  \n",
    "\n",
    "$I + J = K$\n",
    "\n",
    "where K is a new image.  To perform this operation, we *add* I and J elementwise, like so:\n",
    "\n",
    "$$ K_{n,m} = I_{n,m} + J_{n,m} $$\n",
    "\n",
    "Here we will add the two images from above, the checkered and the half and half:"
   ]
  },
  {
   "cell_type": "code",
   "execution_count": 6,
   "metadata": {},
   "outputs": [
    {
     "name": "stdout",
     "output_type": "stream",
     "text": [
      "[[2, 1, 2, 0, 1, 0],\n",
      " [1, 2, 1, 1, 0, 1],\n",
      " [2, 1, 2, 0, 1, 0],\n",
      " [1, 2, 1, 1, 0, 1],\n",
      " [2, 1, 2, 0, 1, 0],\n",
      " [1, 2, 1, 1, 0, 1]]\n"
     ]
    },
    {
     "data": {
      "text/plain": [
       "<matplotlib.image.AxesImage at 0x7f4ce7bfa860>"
      ]
     },
     "execution_count": 6,
     "metadata": {},
     "output_type": "execute_result"
    },
    {
     "data": {
      "image/png": "[encoded data removed]",
      "text/plain": [
       "<Figure size 432x288 with 1 Axes>"
      ]
     },
     "metadata": {},
     "output_type": "display_data"
    }
   ],
   "source": [
    "I = grid1; J = grid2\n",
    "K = I + J\n",
    "pprint(K.tolist())\n",
    "plt.imshow(K, cmap='gray')"
   ]
  },
  {
   "cell_type": "markdown",
   "metadata": {},
   "source": [
    "Note that there are now three distinct values in the matrix: 2, 1, 0, and three distinct gray levels in the resulting image."
   ]
  },
  {
   "cell_type": "markdown",
   "metadata": {},
   "source": [
    "## Transformations\n",
    "\n",
    "Now we will start to get into the idea of transforming an image.  Transformations are what allow us to register images.  \n",
    "\n",
    "### Linear Transformations\n",
    "\n",
    "There are 4 aspects of linear transformation:\n",
    "\n",
    "* Translation\n",
    "\n",
    "* Rotation\n",
    "\n",
    "* Scaling\n",
    "\n",
    "* Shearing\n",
    "\n",
    "##### Affine Linear Transforms\n",
    "\n",
    "Below is an illustration of each of the 4, sometimes known by slightly different names.  Here \"Shearing\" is \"Skew\", and \"Differential\" Scaling is used because the scaling need not be equivilent in different dimentions (hence the differential), turning the square into a rectangle.\n"
   ]
  },
  {
   "cell_type": "code",
   "execution_count": 7,
   "metadata": {},
   "outputs": [
    {
     "ename": "TypeError",
     "evalue": "a bytes-like object is required, not 'str'",
     "output_type": "error",
     "traceback": [
      "\u001b[0;31m---------------------------------------------------------------------------\u001b[0m",
      "\u001b[0;31mTypeError\u001b[0m                                 Traceback (most recent call last)",
      "\u001b[0;32m~/datascience/lib/python3.6/site-packages/IPython/core/formatters.py\u001b[0m in \u001b[0;36m__call__\u001b[0;34m(self, obj, include, exclude)\u001b[0m\n\u001b[1;32m    968\u001b[0m \u001b[0;34m\u001b[0m\u001b[0m\n\u001b[1;32m    969\u001b[0m             \u001b[0;32mif\u001b[0m \u001b[0mmethod\u001b[0m \u001b[0;32mis\u001b[0m \u001b[0;32mnot\u001b[0m \u001b[0;32mNone\u001b[0m\u001b[0;34m:\u001b[0m\u001b[0;34m\u001b[0m\u001b[0m\n\u001b[0;32m--> 970\u001b[0;31m                 \u001b[0;32mreturn\u001b[0m \u001b[0mmethod\u001b[0m\u001b[0;34m(\u001b[0m\u001b[0minclude\u001b[0m\u001b[0;34m=\u001b[0m\u001b[0minclude\u001b[0m\u001b[0;34m,\u001b[0m \u001b[0mexclude\u001b[0m\u001b[0;34m=\u001b[0m\u001b[0mexclude\u001b[0m\u001b[0;34m)\u001b[0m\u001b[0;34m\u001b[0m\u001b[0m\n\u001b[0m\u001b[1;32m    971\u001b[0m             \u001b[0;32mreturn\u001b[0m \u001b[0;32mNone\u001b[0m\u001b[0;34m\u001b[0m\u001b[0m\n\u001b[1;32m    972\u001b[0m         \u001b[0;32melse\u001b[0m\u001b[0;34m:\u001b[0m\u001b[0;34m\u001b[0m\u001b[0m\n",
      "\u001b[0;32m~/datascience/lib/python3.6/site-packages/IPython/core/display.py\u001b[0m in \u001b[0;36m_repr_mimebundle_\u001b[0;34m(self, include, exclude)\u001b[0m\n\u001b[1;32m   1190\u001b[0m         \u001b[0;32mif\u001b[0m \u001b[0mself\u001b[0m\u001b[0;34m.\u001b[0m\u001b[0membed\u001b[0m\u001b[0;34m:\u001b[0m\u001b[0;34m\u001b[0m\u001b[0m\n\u001b[1;32m   1191\u001b[0m             \u001b[0mmimetype\u001b[0m \u001b[0;34m=\u001b[0m \u001b[0mself\u001b[0m\u001b[0;34m.\u001b[0m\u001b[0m_mimetype\u001b[0m\u001b[0;34m\u001b[0m\u001b[0m\n\u001b[0;32m-> 1192\u001b[0;31m             \u001b[0mdata\u001b[0m\u001b[0;34m,\u001b[0m \u001b[0mmetadata\u001b[0m \u001b[0;34m=\u001b[0m \u001b[0mself\u001b[0m\u001b[0;34m.\u001b[0m\u001b[0m_data_and_metadata\u001b[0m\u001b[0;34m(\u001b[0m\u001b[0malways_both\u001b[0m\u001b[0;34m=\u001b[0m\u001b[0;32mTrue\u001b[0m\u001b[0;34m)\u001b[0m\u001b[0;34m\u001b[0m\u001b[0m\n\u001b[0m\u001b[1;32m   1193\u001b[0m             \u001b[0;32mif\u001b[0m \u001b[0mmetadata\u001b[0m\u001b[0;34m:\u001b[0m\u001b[0;34m\u001b[0m\u001b[0m\n\u001b[1;32m   1194\u001b[0m                 \u001b[0mmetadata\u001b[0m \u001b[0;34m=\u001b[0m \u001b[0;34m{\u001b[0m\u001b[0mmimetype\u001b[0m\u001b[0;34m:\u001b[0m \u001b[0mmetadata\u001b[0m\u001b[0;34m}\u001b[0m\u001b[0;34m\u001b[0m\u001b[0m\n",
      "\u001b[0;32m~/datascience/lib/python3.6/site-packages/IPython/core/display.py\u001b[0m in \u001b[0;36m_data_and_metadata\u001b[0;34m(self, always_both)\u001b[0m\n\u001b[1;32m   1199\u001b[0m     \u001b[0;32mdef\u001b[0m \u001b[0m_data_and_metadata\u001b[0m\u001b[0;34m(\u001b[0m\u001b[0mself\u001b[0m\u001b[0;34m,\u001b[0m \u001b[0malways_both\u001b[0m\u001b[0;34m=\u001b[0m\u001b[0;32mFalse\u001b[0m\u001b[0;34m)\u001b[0m\u001b[0;34m:\u001b[0m\u001b[0;34m\u001b[0m\u001b[0m\n\u001b[1;32m   1200\u001b[0m         \u001b[0;34m\"\"\"shortcut for returning metadata with shape information, if defined\"\"\"\u001b[0m\u001b[0;34m\u001b[0m\u001b[0m\n\u001b[0;32m-> 1201\u001b[0;31m         \u001b[0mb64_data\u001b[0m \u001b[0;34m=\u001b[0m \u001b[0mb2a_base64\u001b[0m\u001b[0;34m(\u001b[0m\u001b[0mself\u001b[0m\u001b[0;34m.\u001b[0m\u001b[0mdata\u001b[0m\u001b[0;34m)\u001b[0m\u001b[0;34m.\u001b[0m\u001b[0mdecode\u001b[0m\u001b[0;34m(\u001b[0m\u001b[0;34m'ascii'\u001b[0m\u001b[0;34m)\u001b[0m\u001b[0;34m\u001b[0m\u001b[0m\n\u001b[0m\u001b[1;32m   1202\u001b[0m         \u001b[0mmd\u001b[0m \u001b[0;34m=\u001b[0m \u001b[0;34m{\u001b[0m\u001b[0;34m}\u001b[0m\u001b[0;34m\u001b[0m\u001b[0m\n\u001b[1;32m   1203\u001b[0m         \u001b[0;32mif\u001b[0m \u001b[0mself\u001b[0m\u001b[0;34m.\u001b[0m\u001b[0mmetadata\u001b[0m\u001b[0;34m:\u001b[0m\u001b[0;34m\u001b[0m\u001b[0m\n",
      "\u001b[0;31mTypeError\u001b[0m: a bytes-like object is required, not 'str'"
     ]
    },
    {
     "ename": "TypeError",
     "evalue": "'NoneType' object is not iterable",
     "output_type": "error",
     "traceback": [
      "\u001b[0;31m---------------------------------------------------------------------------\u001b[0m",
      "\u001b[0;31mTypeError\u001b[0m                                 Traceback (most recent call last)",
      "\u001b[0;32m<ipython-input-7-08ea5f4cc32f>\u001b[0m in \u001b[0;36m<module>\u001b[0;34m()\u001b[0m\n\u001b[1;32m      1\u001b[0m \u001b[0;32mfrom\u001b[0m \u001b[0mIPython\u001b[0m\u001b[0;34m.\u001b[0m\u001b[0mdisplay\u001b[0m \u001b[0;32mimport\u001b[0m \u001b[0mImage\u001b[0m\u001b[0;34m\u001b[0m\u001b[0m\n\u001b[0;32m----> 2\u001b[0;31m \u001b[0mImage\u001b[0m\u001b[0;34m(\u001b[0m\u001b[0;34m\"img/all_4_affine.jpg\"\u001b[0m\u001b[0;34m)\u001b[0m\u001b[0;34m\u001b[0m\u001b[0m\n\u001b[0m",
      "\u001b[0;32m~/datascience/lib/python3.6/site-packages/IPython/core/displayhook.py\u001b[0m in \u001b[0;36m__call__\u001b[0;34m(self, result)\u001b[0m\n\u001b[1;32m    255\u001b[0m             \u001b[0mself\u001b[0m\u001b[0;34m.\u001b[0m\u001b[0mstart_displayhook\u001b[0m\u001b[0;34m(\u001b[0m\u001b[0;34m)\u001b[0m\u001b[0;34m\u001b[0m\u001b[0m\n\u001b[1;32m    256\u001b[0m             \u001b[0mself\u001b[0m\u001b[0;34m.\u001b[0m\u001b[0mwrite_output_prompt\u001b[0m\u001b[0;34m(\u001b[0m\u001b[0;34m)\u001b[0m\u001b[0;34m\u001b[0m\u001b[0m\n\u001b[0;32m--> 257\u001b[0;31m             \u001b[0mformat_dict\u001b[0m\u001b[0;34m,\u001b[0m \u001b[0mmd_dict\u001b[0m \u001b[0;34m=\u001b[0m \u001b[0mself\u001b[0m\u001b[0;34m.\u001b[0m\u001b[0mcompute_format_data\u001b[0m\u001b[0;34m(\u001b[0m\u001b[0mresult\u001b[0m\u001b[0;34m)\u001b[0m\u001b[0;34m\u001b[0m\u001b[0m\n\u001b[0m\u001b[1;32m    258\u001b[0m             \u001b[0mself\u001b[0m\u001b[0;34m.\u001b[0m\u001b[0mupdate_user_ns\u001b[0m\u001b[0;34m(\u001b[0m\u001b[0mresult\u001b[0m\u001b[0;34m)\u001b[0m\u001b[0;34m\u001b[0m\u001b[0m\n\u001b[1;32m    259\u001b[0m             \u001b[0mself\u001b[0m\u001b[0;34m.\u001b[0m\u001b[0mfill_exec_result\u001b[0m\u001b[0;34m(\u001b[0m\u001b[0mresult\u001b[0m\u001b[0;34m)\u001b[0m\u001b[0;34m\u001b[0m\u001b[0m\n",
      "\u001b[0;32m~/datascience/lib/python3.6/site-packages/IPython/core/displayhook.py\u001b[0m in \u001b[0;36mcompute_format_data\u001b[0;34m(self, result)\u001b[0m\n\u001b[1;32m    149\u001b[0m \u001b[0;34m\u001b[0m\u001b[0m\n\u001b[1;32m    150\u001b[0m         \"\"\"\n\u001b[0;32m--> 151\u001b[0;31m         \u001b[0;32mreturn\u001b[0m \u001b[0mself\u001b[0m\u001b[0;34m.\u001b[0m\u001b[0mshell\u001b[0m\u001b[0;34m.\u001b[0m\u001b[0mdisplay_formatter\u001b[0m\u001b[0;34m.\u001b[0m\u001b[0mformat\u001b[0m\u001b[0;34m(\u001b[0m\u001b[0mresult\u001b[0m\u001b[0;34m)\u001b[0m\u001b[0;34m\u001b[0m\u001b[0m\n\u001b[0m\u001b[1;32m    152\u001b[0m \u001b[0;34m\u001b[0m\u001b[0m\n\u001b[1;32m    153\u001b[0m     \u001b[0;31m# This can be set to True by the write_output_prompt method in a subclass\u001b[0m\u001b[0;34m\u001b[0m\u001b[0;34m\u001b[0m\u001b[0m\n",
      "\u001b[0;32m~/datascience/lib/python3.6/site-packages/IPython/core/formatters.py\u001b[0m in \u001b[0;36mformat\u001b[0;34m(self, obj, include, exclude)\u001b[0m\n\u001b[1;32m    148\u001b[0m             \u001b[0;32mreturn\u001b[0m \u001b[0;34m{\u001b[0m\u001b[0;34m}\u001b[0m\u001b[0;34m,\u001b[0m \u001b[0;34m{\u001b[0m\u001b[0;34m}\u001b[0m\u001b[0;34m\u001b[0m\u001b[0m\n\u001b[1;32m    149\u001b[0m \u001b[0;34m\u001b[0m\u001b[0m\n\u001b[0;32m--> 150\u001b[0;31m         \u001b[0mformat_dict\u001b[0m\u001b[0;34m,\u001b[0m \u001b[0mmd_dict\u001b[0m \u001b[0;34m=\u001b[0m \u001b[0mself\u001b[0m\u001b[0;34m.\u001b[0m\u001b[0mmimebundle_formatter\u001b[0m\u001b[0;34m(\u001b[0m\u001b[0mobj\u001b[0m\u001b[0;34m,\u001b[0m \u001b[0minclude\u001b[0m\u001b[0;34m=\u001b[0m\u001b[0minclude\u001b[0m\u001b[0;34m,\u001b[0m \u001b[0mexclude\u001b[0m\u001b[0;34m=\u001b[0m\u001b[0mexclude\u001b[0m\u001b[0;34m)\u001b[0m\u001b[0;34m\u001b[0m\u001b[0m\n\u001b[0m\u001b[1;32m    151\u001b[0m \u001b[0;34m\u001b[0m\u001b[0m\n\u001b[1;32m    152\u001b[0m         \u001b[0;32mif\u001b[0m \u001b[0mformat_dict\u001b[0m \u001b[0;32mor\u001b[0m \u001b[0mmd_dict\u001b[0m\u001b[0;34m:\u001b[0m\u001b[0;34m\u001b[0m\u001b[0m\n",
      "\u001b[0;31mTypeError\u001b[0m: 'NoneType' object is not iterable"
     ]
    }
   ],
   "source": [
    "from IPython.display import Image\n",
    "Image(\"img/all_4_affine.jpg\")"
   ]
  },
  {
   "cell_type": "markdown",
   "metadata": {},
   "source": [
    "Together these 4 transformation types make up \"affine\" transformations.  A single linear transformation may involve one or all of them.  It is specifically called affine when we are using or allowed to use all 4.\n",
    "\n",
    "##### Rigid Body Linear Transforms\n",
    "\n",
    "Translation and rotation, when considered alone, encompass \"rigid body\" or \"euclidean\" transformations.  A translation is a shift of the object from point A to point B.  A rotation is performed about the origin.  Transformations involving only these two are called \"rigid body\" because the shape and size of the object are constant through these transforms.  Below you can use the sliders to play with the translation and rotation.  Notice what happens to the edges of the square as it moves through discrete pixels in the image's field of view."
   ]
  },
  {
   "cell_type": "code",
   "execution_count": 8,
   "metadata": {},
   "outputs": [],
   "source": [
    "from ipywidgets import interact\n",
    "import ipywidgets as widgets\n",
    "from skimage.transform import warp\n",
    "\n",
    "\n",
    "N = 64\n",
    "square = np.zeros((N, N))\n",
    "square[N//2-5:N//2+6, N//2-5:N//2+6] = 1\n",
    "\n",
    "\n",
    "def f(tx, ty, θ, interp=None):\n",
    "    if interp:\n",
    "        interp = 0\n",
    "    else:\n",
    "        interp = 1\n",
    "    θ =  θ / 180 * np.pi\n",
    "    global square\n",
    "    mat = np.array([\n",
    "        [np.cos(θ), -np.sin(θ), tx],\n",
    "        [np.sin(θ), np.cos(θ), ty],\n",
    "        [0, 0, 1] # rigid body\n",
    "    ])\n",
    "    img = warp(square, mat, output_shape=square.shape, order=interp)\n",
    "    plt.imshow(img, cmap='gray')\n",
    "    plt.grid()\n",
    "\n",
    "x = widgets.IntSlider(min=-32, max=32, step=2)\n",
    "y = widgets.IntSlider(min=-32, max=32, step=2)\n",
    "t = widgets.IntSlider(min=-50, max=50, step=10)\n",
    "interpolation = widgets.Checkbox(\n",
    "    value=False,\n",
    "    description='Nearest Neighbor',\n",
    "    disabled=False\n",
    ")\n"
   ]
  },
  {
   "cell_type": "code",
   "execution_count": 9,
   "metadata": {},
   "outputs": [
    {
     "data": {
      "application/vnd.jupyter.widget-view+json": {
       "model_id": "4697a9fea2fd4c16a2babfa542f6e629",
       "version_major": 2,
       "version_minor": 0
      },
      "text/html": [
       "<p>Failed to display Jupyter Widget of type <code>interactive</code>.</p>\n",
       "<p>\n",
       "  If you're reading this message in the Jupyter Notebook or JupyterLab Notebook, it may mean\n",
       "  that the widgets JavaScript is still loading. If this message persists, it\n",
       "  likely means that the widgets JavaScript library is either not installed or\n",
       "  not enabled. See the <a href=\"https://ipywidgets.readthedocs.io/en/stable/user_install.html\">Jupyter\n",
       "  Widgets Documentation</a> for setup instructions.\n",
       "</p>\n",
       "<p>\n",
       "  If you're reading this message in another frontend (for example, a static\n",
       "  rendering on GitHub or <a href=\"https://nbviewer.jupyter.org/\">NBViewer</a>),\n",
       "  it may mean that your frontend doesn't currently support widgets.\n",
       "</p>\n"
      ],
      "text/plain": [
       "interactive(children=(IntSlider(value=0, description='tx', max=32, min=-32, step=2), IntSlider(value=0, description='ty', max=32, min=-32, step=2), IntSlider(value=0, description='θ', max=50, min=-50, step=10), Checkbox(value=False, description='Nearest Neighbor'), Output()), _dom_classes=('widget-interact',))"
      ]
     },
     "metadata": {},
     "output_type": "display_data"
    }
   ],
   "source": [
    "plot = interact(f, tx=x, ty=y, θ=t, interp=interpolation)"
   ]
  },
  {
   "cell_type": "markdown",
   "metadata": {},
   "source": [
    "You may notice that the translation tx and ty are inverted, akin to shifting algebraic functions f(x) to the left or right on a graph.  You may also notice that the square rotates about the origin, not its own center of mass.  In order to flip an object upside down, you need to rotate it 180 degrees about the origin, then translate it back across (twice its starting distance from $(0,0)$.  Later, when we get into MRI images we will talk about sform and qform, and why they help with this process.\n",
    "\n",
    "You should also note that the edges blur as the square moves around in space.  This is because the edges of the square do not land neatly into a single pixel.\n",
    "\n",
    "\n",
    "#### Interpolation\n",
    "\n",
    "##### Bi-Linear\n",
    "The default option on this interactive widget, where the blurring is observed, is called \"Bi-Linear\" interpolation.  New pixels are filled in with the average value of the pixels around them.  That way we get a sense of where the square has 'mostly' entered a pixel, or 'slightly' entered a pixel by the resulting darker fade.\n",
    "\n",
    "\n",
    "##### Nearest Neighbor\n",
    "One option would be a sort of \"majority vote\":  any pixel which is closer to a square edge than empty space gets filled in.  Click the \"Nearest Neighbor\" box to see this in action.  You can see how the shape can lose its squarish form with this method.  To begin with, the square is intensity 1 and the background is 0.  For the faded pixels from before, any with a value less than .5 become 0 and any greater than .5 become 1.\n",
    "\n",
    "Q: Why use Nearest Neighbor if the result can be so mishapen?\n",
    "A: It is primarily useful when dealing with labeled data.  If the square/object is a box dileaneating someone's hippocampus, faded values may not have any discernable meaning.  Furthermore, the faded values less than .5 are actually mostly \"not square\", so depending on how specific we want to be, it may be important to not include those points.\n",
    "\n",
    "\n",
    "#### Interactive Affine Transformations\n",
    "\n",
    "\n",
    "Below, I will allow you to play with affine transformations.  You now have an additional 4 parameters to play with while moving the image.  See what they do!\n",
    "\n",
    "(hint:  $k_x$ and $k_y$ may appear to do nothing at first, but try playing with $\\theta$ as well!)\n",
    "\n",
    "If the square gets lost, set things to 0 or 1.0 to return to the original position.  This app is a work in progress but should give you an idea of the extra freedom involved in affine transforms."
   ]
  },
  {
   "cell_type": "code",
   "execution_count": 24,
   "metadata": {},
   "outputs": [],
   "source": [
    "N = 128\n",
    "square2 = np.zeros((N, N))\n",
    "square2[0:11, 0:11] = 1\n",
    "\n",
    "shift = np.array([\n",
    "        [1, 0, -60],\n",
    "        [0, 1, -60],\n",
    "        [0, 0, 1] # rigid body\n",
    "    ])\n",
    "\n",
    "def f(tx, ty, θ, kx, ky, sx, sy, interp=None):\n",
    "    if interp:\n",
    "        interp = 0\n",
    "    else:\n",
    "        interp = 1\n",
    "    θ =  θ / 180 * np.pi\n",
    "    global square2\n",
    "    mat = np.array([\n",
    "        [sx * np.cos(θ), ky * -np.sin(θ), tx],\n",
    "        [kx * np.sin(θ), sy * np.cos(θ), ty],\n",
    "        [0, 0, 1] # rigid body\n",
    "    ])\n",
    "    mat = mat @ shift\n",
    "    \n",
    "    img = warp(square2, mat, output_shape=square2.shape, order=interp)\n",
    "    plt.imshow(img, cmap='gray')\n",
    "    plt.grid()\n",
    "\n",
    "x2 = widgets.IntSlider(min=-64, max=64, step=4)\n",
    "y2 = widgets.IntSlider(min=-64, max=64, step=4)\n",
    "t2 = widgets.IntSlider(min=-180, max=180, step=10)\n",
    "kx = widgets.FloatSlider(min=-.5, max=2.0, value=1)\n",
    "ky = widgets.FloatSlider(min=-.5, max=2.0, value=1)\n",
    "sx = widgets.FloatSlider(min=0, max=2.0, value=1)\n",
    "sy = widgets.FloatSlider(min=0, max=2.0, value=1)\n",
    "interpolation = widgets.Checkbox(\n",
    "    value=False,\n",
    "    description='Nearest Neighbor',\n",
    "    disabled=False\n",
    ")"
   ]
  },
  {
   "cell_type": "code",
   "execution_count": 25,
   "metadata": {
    "scrolled": false
   },
   "outputs": [
    {
     "data": {
      "application/vnd.jupyter.widget-view+json": {
       "model_id": "a83f26fff7224a6db8df2a374691ea0c",
       "version_major": 2,
       "version_minor": 0
      },
      "text/html": [
       "<p>Failed to display Jupyter Widget of type <code>interactive</code>.</p>\n",
       "<p>\n",
       "  If you're reading this message in the Jupyter Notebook or JupyterLab Notebook, it may mean\n",
       "  that the widgets JavaScript is still loading. If this message persists, it\n",
       "  likely means that the widgets JavaScript library is either not installed or\n",
       "  not enabled. See the <a href=\"https://ipywidgets.readthedocs.io/en/stable/user_install.html\">Jupyter\n",
       "  Widgets Documentation</a> for setup instructions.\n",
       "</p>\n",
       "<p>\n",
       "  If you're reading this message in another frontend (for example, a static\n",
       "  rendering on GitHub or <a href=\"https://nbviewer.jupyter.org/\">NBViewer</a>),\n",
       "  it may mean that your frontend doesn't currently support widgets.\n",
       "</p>\n"
      ],
      "text/plain": [
       "interactive(children=(IntSlider(value=0, description='tx', max=64, min=-64, step=4), IntSlider(value=0, description='ty', max=64, min=-64, step=4), IntSlider(value=0, description='θ', max=180, min=-180, step=10), FloatSlider(value=1.0, description='kx', max=2.0, min=-0.5), FloatSlider(value=1.0, description='ky', max=2.0, min=-0.5), FloatSlider(value=1.0, description='sx', max=2.0), FloatSlider(value=1.0, description='sy', max=2.0), Checkbox(value=False, description='Nearest Neighbor'), Output()), _dom_classes=('widget-interact',))"
      ]
     },
     "metadata": {},
     "output_type": "display_data"
    }
   ],
   "source": [
    "plot = interact(f, tx=x2, ty=y2, θ=t2, kx=kx, ky=ky, sx=sx, sy=sy, interp=interpolation)"
   ]
  },
  {
   "cell_type": "markdown",
   "metadata": {},
   "source": [
    "\n",
    "\n",
    "### Nonlinear Transformations\n",
    "\n",
    "To be continued..."
   ]
  }
 ],
 "metadata": {
  "kernelspec": {
   "display_name": "Python 3",
   "language": "python",
   "name": "python3"
  },
  "language_info": {
   "codemirror_mode": {
    "name": "ipython",
    "version": 3
   },
   "file_extension": ".py",
   "mimetype": "text/x-python",
   "name": "python",
   "nbconvert_exporter": "python",
   "pygments_lexer": "ipython3",
   "version": "3.6.3"
  }
 },
 "nbformat": 4,
 "nbformat_minor": 2
}
