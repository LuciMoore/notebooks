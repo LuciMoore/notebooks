{
 "cells": [
  {
   "cell_type": "markdown",
   "metadata": {},
   "source": [
    "# DCAN Lab Introduction to Command Line Image Math\n",
    "\n",
    "## Topics\n",
    "\n",
    "* What makes an image?\n",
    "\n",
    "\n",
    "* What are some operations on images?\n",
    "\n",
    "    * Images and Numbers\n",
    "\n",
    "    * Images and other Images\n",
    "    \n",
    "    * Transformations\n",
    "\n",
    "\n",
    "* What kind of images are there in MRI research?\n",
    "\n",
    "    * Anatomy\n",
    "    \n",
    "    * Functional\n",
    "    \n",
    "    * Labels\n",
    "\n",
    "\n",
    "* Common DCAN Tools\n",
    "\n",
    "    * fsl\n",
    "    \n",
    "    * FreeSurfer\n",
    "       \n",
    "    * ANTs\n",
    "    \n"
   ]
  },
  {
   "cell_type": "markdown",
   "metadata": {},
   "source": [
    "## What Makes An Image?\n",
    "\n",
    "In this context we will always be talking about *digital images*, the way that they are represented on a computer.  Starting this intro with 2-dimensional images, a standard digital image is represented on a computer by a grid (or matrix/array) of numbers.\n"
   ]
  },
  {
   "cell_type": "code",
   "execution_count": 1,
   "metadata": {},
   "outputs": [
    {
     "name": "stdout",
     "output_type": "stream",
     "text": [
      "[[1, 1, 1, 0, 0, 0],\n",
      " [1, 1, 1, 0, 0, 0],\n",
      " [1, 1, 1, 0, 0, 0],\n",
      " [1, 1, 1, 0, 0, 0],\n",
      " [1, 1, 1, 0, 0, 0],\n",
      " [1, 1, 1, 0, 0, 0]]\n",
      "\n",
      "[[1, 0, 1, 0, 1, 0],\n",
      " [0, 1, 0, 1, 0, 1],\n",
      " [1, 0, 1, 0, 1, 0],\n",
      " [0, 1, 0, 1, 0, 1],\n",
      " [1, 0, 1, 0, 1, 0],\n",
      " [0, 1, 0, 1, 0, 1]]\n"
     ]
    }
   ],
   "source": [
    "%matplotlib inline\n",
    "# python visualization and mathematics packages\n",
    "from matplotlib import pyplot as plt\n",
    "import numpy as np\n",
    "from pprint import pprint\n",
    "\n",
    "# intialize a grid, we will call it \"grid1\"\n",
    "m = 6; n = 6\n",
    "grid1 = np.zeros((m, n), dtype=int)\n",
    "grid1[:, :3] = 1\n",
    "\n",
    "# initialize a second grid, \"grid2\"\n",
    "m = 3; n = 3\n",
    "even = np.array(m * [1, 0])\n",
    "odd = even[::-1]\n",
    "grid2 = np.row_stack(n * (even, odd))\n",
    "\n",
    "# print the grids out as data/matrices\n",
    "pprint(grid1.tolist())\n",
    "print('')\n",
    "pprint(grid2.tolist())"
   ]
  },
  {
   "cell_type": "markdown",
   "metadata": {},
   "source": [
    "Above you can see the shape of the grids we have created.  Notice grid1 is split half and half between 1 and 0, grid2 is alternating 1s and 0s.  This notation may be novel, but it corresponds quite nicely to the elements of a matrix, or an excel spreadsheet, csv, whatever format you may be used to reading in tabular data, it is organized by two indices: a row index and a column index which together map each element.\n",
    "\n",
    "Let's see how these numbers look as a images:"
   ]
  },
  {
   "cell_type": "code",
   "execution_count": 2,
   "metadata": {},
   "outputs": [
    {
     "data": {
      "text/plain": [
       "Text(0.5,1,'grid2')"
      ]
     },
     "execution_count": 2,
     "metadata": {},
     "output_type": "execute_result"
    },
    {
     "data": {
      "image/png": "[encoded data removed]",
      "text/plain": [
       "<matplotlib.figure.Figure at 0x7f4a4394d240>"
      ]
     },
     "metadata": {},
     "output_type": "display_data"
    }
   ],
   "source": [
    "plt.subplot(1, 2, 1)\n",
    "plt.imshow(grid1, cmap='gray')\n",
    "plt.title('grid1')\n",
    "plt.subplot(1, 2, 2)\n",
    "plt.imshow(grid2, cmap='gray')\n",
    "plt.title('grid2')"
   ]
  },
  {
   "cell_type": "markdown",
   "metadata": {},
   "source": [
    "Notice that wherever we had a 1, the image shows a white square.  Wherever we had a 0, the image shows a black square.  Whether the number or the visible representation, these are \"pixels\".\n",
    "\n",
    "If we were discussing photographs such as taken on a digital camera, each pixel would actually have three values associated: R, G, and B.  In the context of MRI, we are only concerned with grayscale images.\n",
    "\n",
    "\n",
    "## What Are Some Operations on Images?\n",
    "\n",
    "Here we will discuss mathematical operations which can be performed on images.\n",
    "\n",
    "### Images and Numbers\n",
    "\n",
    "Given some number $x$, and another number $a$, I can write some simple equations like:\n",
    "\n",
    "$$x + a = 6 \\\\\n",
    "x - a = 1 \\\\\n",
    "x \\times a = 6 \\\\\n",
    "x ^ a = 9$$\n",
    "\n",
    "Which you will recognize as addition, subtraction, multiplication and exponentiation.\n",
    "\n",
    "For some image $I$, and a number $a$, I can carry out all of the same operations, for example, I can add $a$ to grid1, the half and half grid from before:\n",
    "\n",
    "$$ a + I = ?$$"
   ]
  },
  {
   "cell_type": "code",
   "execution_count": 3,
   "metadata": {},
   "outputs": [
    {
     "name": "stdout",
     "output_type": "stream",
     "text": [
      "[[3, 3, 3, 2, 2, 2],\n",
      " [3, 3, 3, 2, 2, 2],\n",
      " [3, 3, 3, 2, 2, 2],\n",
      " [3, 3, 3, 2, 2, 2],\n",
      " [3, 3, 3, 2, 2, 2],\n",
      " [3, 3, 3, 2, 2, 2]]\n"
     ]
    }
   ],
   "source": [
    "# a = 2\n",
    "I = grid1; a = 2\n",
    "# add 2 to the image.\n",
    "J = a + I\n",
    "pprint(J.tolist())"
   ]
  },
  {
   "cell_type": "markdown",
   "metadata": {},
   "source": [
    "Notice that the value of each element in grid1 has increased by 2!  We call these *elementwise* operations, where the normal mathematical operation: addition, multiplication, etc. is carried out individually on each pixel/element of the image:\n",
    "\n",
    "$$ J_{n, m} = a + I_{n, m} $$\n",
    "\n",
    "where $I_{n, m}$ is the element in row n, column m, of $I$ \n",
    "\n",
    "Adding 2 to an image is the same as adding 2 to every pixel, multiplying an image by 2 is the same as multiplying every pixel by 2.  In fact, even fancy operations like log, exponents, or trig functions obey this same rule.\n",
    "\n",
    "Let's take a look at the visual result for illustrative purposes:"
   ]
  },
  {
   "cell_type": "code",
   "execution_count": 4,
   "metadata": {},
   "outputs": [
    {
     "data": {
      "text/plain": [
       "<matplotlib.image.AxesImage at 0x7f4a0c73a438>"
      ]
     },
     "execution_count": 4,
     "metadata": {},
     "output_type": "execute_result"
    },
    {
     "data": {
      "image/png": "[encoded data removed]",
      "text/plain": [
       "<matplotlib.figure.Figure at 0x7f4a439480b8>"
      ]
     },
     "metadata": {},
     "output_type": "display_data"
    }
   ],
   "source": [
    "plt.imshow(J, cmap='gray')"
   ]
  },
  {
   "cell_type": "markdown",
   "metadata": {},
   "source": [
    "Question:  Why does the image still look the same as before?\n",
    "\n",
    "...\n",
    "\n",
    "Answer: You must be careful when visually comparing different images to make sure they are *scaled* the same. 2 is here black because it is the *lowest* value in the image.  3 is white because it is the *highest*.  We could also scale this image from 0 to 5, and we would see some slightly different shades of gray in place of 3 and 2:"
   ]
  },
  {
   "cell_type": "code",
   "execution_count": 5,
   "metadata": {
    "scrolled": true
   },
   "outputs": [
    {
     "data": {
      "text/plain": [
       "<matplotlib.image.AxesImage at 0x7f4a0c6a22e8>"
      ]
     },
     "execution_count": 5,
     "metadata": {},
     "output_type": "execute_result"
    },
    {
     "data": {
      "image/png": "[encoded data removed]",
      "text/plain": [
       "<matplotlib.figure.Figure at 0x7f4a0c7106d8>"
      ]
     },
     "metadata": {},
     "output_type": "display_data"
    }
   ],
   "source": [
    "plt.imshow(J, cmap='gray', vmin=0, vmax=5)"
   ]
  },
  {
   "cell_type": "markdown",
   "metadata": {},
   "source": [
    "### Images and other Images\n",
    "\n",
    "Similar to before, we can also have addition, subtraction, multiplication, division, etc. between images.  For example, given an image $I$ and an image $J$ we can still have:  \n",
    "\n",
    "$I + J = K$\n",
    "\n",
    "where K is a new image.  To perform this operation, we *add* I and J elementwise, like so:\n",
    "\n",
    "$$ K_{n,m} = I_{n,m} + J_{n,m} $$\n",
    "\n",
    "Here we will add the two images from above, the checkered and the half and half:"
   ]
  },
  {
   "cell_type": "code",
   "execution_count": 6,
   "metadata": {},
   "outputs": [
    {
     "name": "stdout",
     "output_type": "stream",
     "text": [
      "[[2, 1, 2, 0, 1, 0],\n",
      " [1, 2, 1, 1, 0, 1],\n",
      " [2, 1, 2, 0, 1, 0],\n",
      " [1, 2, 1, 1, 0, 1],\n",
      " [2, 1, 2, 0, 1, 0],\n",
      " [1, 2, 1, 1, 0, 1]]\n"
     ]
    },
    {
     "data": {
      "text/plain": [
       "<matplotlib.image.AxesImage at 0x7f4a0c677e48>"
      ]
     },
     "execution_count": 6,
     "metadata": {},
     "output_type": "execute_result"
    },
    {
     "data": {
      "image/png": "[encoded data removed]",
      "text/plain": [
       "<matplotlib.figure.Figure at 0x7f4a0c8240b8>"
      ]
     },
     "metadata": {},
     "output_type": "display_data"
    }
   ],
   "source": [
    "I = grid1; J = grid2\n",
    "K = I + J\n",
    "pprint(K.tolist())\n",
    "plt.imshow(K, cmap='gray')"
   ]
  },
  {
   "cell_type": "markdown",
   "metadata": {},
   "source": [
    "Note that there are now three distinct values in the matrix: 2, 1, 0, and three distinct gray levels in the resulting image."
   ]
  },
  {
   "cell_type": "markdown",
   "metadata": {},
   "source": [
    "### Transformations\n",
    "\n",
    "Now we will start to get into the idea of transforming an image.  Transformations are what allow us to register images.  \n",
    "\n",
    "#### Linear Transformations\n",
    "\n",
    "There are 4 types of linear transformation:\n",
    "\n",
    "* Translation\n",
    "\n",
    "* Rotation\n",
    "\n",
    "* Scaling\n",
    "\n",
    "* Shearing\n",
    "\n",
    "##### Affine Linear Transforms\n",
    "\n",
    "Below is an illustration of each of the 4, sometimes known by slightly different names.  Here \"Shearing\" is \"Skew\", and \"Differential\" Scaling is used because the scaling need not be equivilent in different dimentions (hence the differential), turning the square into a rectangle.\n"
   ]
  },
  {
   "cell_type": "code",
   "execution_count": 7,
   "metadata": {},
   "outputs": [
    {
     "data": {
      "image/jpeg": "[encoded data removed]",
      "text/plain": [
       "<IPython.core.display.Image object>"
      ]
     },
     "metadata": {}
    }
   ],
   "source": [
    "from IPython.display import Image\n",
    "Image(\"img/all_4_affine.jpg\")"
   ]
  },
  {
   "cell_type": "markdown",
   "metadata": {},
   "source": [
    "Together these 4 transformation types make up \"affine\" transformations.  A single linear transformation may involve one or all of them.  It is specifically called affine when we are using or allowed to use all 4.\n",
    "\n",
    "##### Rigid Body Linear Transforms\n",
    "\n",
    "Translation and rotation, when considered alone, encompass \"rigid body\" or \"euclidean\" transformations.  A translation is a shift of the object from point A to point B.  A rotation is performed about the origin.  Transformations involving only these two are called \"rigid body\" because the shape and size of the object are constant.  The images below illustrate what these two transforms look like for a square when performed in succession."
   ]
  },
  {
   "cell_type": "code",
   "execution_count": null,
   "metadata": {},
   "outputs": [
    {
     "data": {
      "image/png": "[encoded data removed]",
      "text/plain": [
       "<matplotlib.figure.Figure at 0x7f4a01c6c4e0>"
      ]
     },
     "metadata": {},
     "output_type": "display_data"
    }
   ],
   "source": [
    "from ipywidgets import interact\n",
    "import ipywidgets as widgets\n",
    "from skimage.transform import warp\n",
    "\n",
    "\n",
    "N = 32\n",
    "square = np.zeros((N, N))\n",
    "square[N//2-2:N//2+3, N//2-2:N//2+3] = 1\n",
    "\n",
    "\n",
    "def f(tx, ty, θ):\n",
    "    global square\n",
    "    mat = np.array([\n",
    "        [np.cos(θ), -np.sin(θ), tx],\n",
    "        [np.sin(θ), np.cos(θ), ty],\n",
    "        [0, 0, 1] # rigid body\n",
    "    ])\n",
    "    img = warp(square, mat, output_shape=square.shape)\n",
    "    plt.imshow(img)\n",
    "    plt.grid()\n",
    "\n",
    "\n",
    "x = widgets.IntSlider(min=-5, max=5)\n",
    "y = widgets.IntSlider(min=-5, max=5)\n",
    "t = widgets.FloatSlider(min=0, max=2*np.pi)\n",
    "plot = interact(f, tx=x, ty=y, θ=t)"
   ]
  },
  {
   "cell_type": "markdown",
   "metadata": {},
   "source": [
    "Notice that the square ends up in a different location based on the order of the two transformations.  This is because objects further from the origin will cover a longer arc when rotating.  The main takeaway should be that order matters, and transformations cannot, in general, be swapped around without consequence.\n",
    "\n",
    "#### Nonlinear Transformations\n",
    "\n",
    "To be continued..."
   ]
  }
 ],
 "metadata": {
  "kernelspec": {
   "display_name": "Python 3",
   "language": "python",
   "name": "python3"
  },
  "language_info": {
   "codemirror_mode": {
    "name": "ipython",
    "version": 3
   },
   "file_extension": ".py",
   "mimetype": "text/x-python",
   "name": "python",
   "nbconvert_exporter": "python",
   "pygments_lexer": "ipython3",
   "version": "3.6.3"
  }
 },
 "nbformat": 4,
 "nbformat_minor": 2
}
